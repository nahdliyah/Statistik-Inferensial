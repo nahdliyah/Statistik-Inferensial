{
 "cells": [
  {
   "cell_type": "code",
   "execution_count": 31,
   "metadata": {},
   "outputs": [
    {
     "name": "stdout",
     "output_type": "stream",
     "text": [
      "         Provinsi  Tingkat Pengangguran Terbuka (TPT) - Februari  \\\n",
      "0            Aceh                                           5.97   \n",
      "1  Sumatera Utara                                           5.47   \n",
      "2  Sumatera Barat                                           6.17   \n",
      "3            Riau                                           4.40   \n",
      "4           Jambi                                           4.70   \n",
      "\n",
      "   Tingkat Pengangguran Terbuka (TPT) - Agustus  \\\n",
      "0                                          6.17   \n",
      "1                                          6.16   \n",
      "2                                          6.28   \n",
      "3                                          4.37   \n",
      "4                                          4.59   \n",
      "\n",
      "   Tingkat Partisipasi Angkatan Kerja (TPAK) - Februari  \\\n",
      "0                                              64.15      \n",
      "1                                              70.45      \n",
      "2                                              68.00      \n",
      "3                                              65.98      \n",
      "4                                              68.86      \n",
      "\n",
      "   Tingkat Partisipasi Angkatan Kerja (TPAK) - Agustus  \n",
      "0                                              63.50    \n",
      "1                                              69.53    \n",
      "2                                              69.30    \n",
      "3                                              63.86    \n",
      "4                                              67.84    \n"
     ]
    }
   ],
   "source": [
    "import pandas as pd\n",
    "\n",
    "# Ganti 'nama_file.csv' dengan nama file CSV yang sesuai\n",
    "nama_file_csv = 'pengangguran.csv'\n",
    "\n",
    "# Membaca data dari file CSV\n",
    "data = pd.read_csv(nama_file_csv, encoding='ISO-8859-1')\n",
    "\n",
    "# Menampilkan beberapa baris pertama dari data untuk verifikasi\n",
    "print(data.head())\n"
   ]
  },
  {
   "cell_type": "code",
   "execution_count": 32,
   "metadata": {},
   "outputs": [
    {
     "name": "stdout",
     "output_type": "stream",
     "text": [
      "<class 'pandas.core.frame.DataFrame'>\n",
      "RangeIndex: 35 entries, 0 to 34\n",
      "Data columns (total 5 columns):\n",
      " #   Column                                                Non-Null Count  Dtype  \n",
      "---  ------                                                --------------  -----  \n",
      " 0   Provinsi                                              35 non-null     object \n",
      " 1   Tingkat Pengangguran Terbuka (TPT) - Februari         35 non-null     float64\n",
      " 2   Tingkat Pengangguran Terbuka (TPT) - Agustus          35 non-null     float64\n",
      " 3   Tingkat Partisipasi Angkatan Kerja (TPAK) - Februari  35 non-null     float64\n",
      " 4   Tingkat Partisipasi Angkatan Kerja (TPAK) - Agustus   35 non-null     float64\n",
      "dtypes: float64(4), object(1)\n",
      "memory usage: 1.5+ KB\n"
     ]
    }
   ],
   "source": [
    "data.info()"
   ]
  },
  {
   "cell_type": "code",
   "execution_count": 33,
   "metadata": {},
   "outputs": [
    {
     "data": {
      "text/plain": [
       "Provinsi                                                0\n",
       "Tingkat Pengangguran Terbuka (TPT) - Februari           0\n",
       "Tingkat Pengangguran Terbuka (TPT) - Agustus            0\n",
       "Tingkat Partisipasi Angkatan Kerja (TPAK) - Februari    0\n",
       "Tingkat Partisipasi Angkatan Kerja (TPAK) - Agustus     0\n",
       "dtype: int64"
      ]
     },
     "execution_count": 33,
     "metadata": {},
     "output_type": "execute_result"
    }
   ],
   "source": [
    "data.isnull().sum()"
   ]
  },
  {
   "cell_type": "code",
   "execution_count": 34,
   "metadata": {},
   "outputs": [
    {
     "data": {
      "text/plain": [
       "(35, 5)"
      ]
     },
     "execution_count": 34,
     "metadata": {},
     "output_type": "execute_result"
    }
   ],
   "source": [
    "data.shape"
   ]
  },
  {
   "cell_type": "code",
   "execution_count": 35,
   "metadata": {},
   "outputs": [],
   "source": [
    "# from sklearn.preprocessing import MinMaxScaler\n",
    "\n",
    "# # Pilih kolom yang akan dinormalisasi (misalnya, semua kecuali kolom Tanggal (GMT))\n",
    "# cols_to_normalize = data.columns[1:]\n",
    "\n",
    "# # Inisialisasi MinMaxScaler\n",
    "# scaler = MinMaxScaler()\n",
    "\n",
    "# # Normalisasi kolom-kolom tertentu\n",
    "# data[cols_to_normalize] = scaler.fit_transform(data[cols_to_normalize])\n",
    "\n",
    "# # Save the normalized data to a new CSV file\n",
    "# data.to_csv('normalized_data.csv', index=False)\n"
   ]
  },
  {
   "cell_type": "code",
   "execution_count": 36,
   "metadata": {},
   "outputs": [],
   "source": [
    "# # Membaca data dari file CSV\n",
    "# data1= pd.read_csv(\"normalized_data.csv\")\n",
    "\n",
    "# # Menampilkan beberapa baris pertama dari data untuk verifikasi\n",
    "# print(data1.head())"
   ]
  },
  {
   "cell_type": "markdown",
   "metadata": {},
   "source": [
    "Elbow Method:\n",
    "\n",
    "Metode ini melibatkan pengamatan sumbu-bahu (elbow) pada grafik inersia (inertia) terhadap jumlah cluster. Inersia adalah suatu ukuran seberapa jauh setiap titik dalam suatu klaster dari pusat klasternya. Semakin kecil inersia, semakin baik. Pada grafik inersia terhadap jumlah cluster, \"siku\" dari elbow adalah tempat di mana penurunan inersia mulai melambat secara signifikan. Jumlah cluster pada \"siku\" ini dapat dianggap sebagai jumlah cluster yang optimal"
   ]
  },
  {
   "cell_type": "code",
   "execution_count": 37,
   "metadata": {},
   "outputs": [
    {
     "name": "stderr",
     "output_type": "stream",
     "text": [
      "c:\\Users\\ASUS\\envs\\env1\\Lib\\site-packages\\sklearn\\cluster\\_kmeans.py:1416: FutureWarning: The default value of `n_init` will change from 10 to 'auto' in 1.4. Set the value of `n_init` explicitly to suppress the warning\n",
      "  super()._check_params_vs_input(X, default_n_init=10)\n",
      "c:\\Users\\ASUS\\envs\\env1\\Lib\\site-packages\\sklearn\\cluster\\_kmeans.py:1416: FutureWarning: The default value of `n_init` will change from 10 to 'auto' in 1.4. Set the value of `n_init` explicitly to suppress the warning\n",
      "  super()._check_params_vs_input(X, default_n_init=10)\n",
      "c:\\Users\\ASUS\\envs\\env1\\Lib\\site-packages\\sklearn\\cluster\\_kmeans.py:1416: FutureWarning: The default value of `n_init` will change from 10 to 'auto' in 1.4. Set the value of `n_init` explicitly to suppress the warning\n",
      "  super()._check_params_vs_input(X, default_n_init=10)\n",
      "c:\\Users\\ASUS\\envs\\env1\\Lib\\site-packages\\sklearn\\cluster\\_kmeans.py:1416: FutureWarning: The default value of `n_init` will change from 10 to 'auto' in 1.4. Set the value of `n_init` explicitly to suppress the warning\n",
      "  super()._check_params_vs_input(X, default_n_init=10)\n",
      "c:\\Users\\ASUS\\envs\\env1\\Lib\\site-packages\\sklearn\\cluster\\_kmeans.py:1416: FutureWarning: The default value of `n_init` will change from 10 to 'auto' in 1.4. Set the value of `n_init` explicitly to suppress the warning\n",
      "  super()._check_params_vs_input(X, default_n_init=10)\n",
      "c:\\Users\\ASUS\\envs\\env1\\Lib\\site-packages\\sklearn\\cluster\\_kmeans.py:1416: FutureWarning: The default value of `n_init` will change from 10 to 'auto' in 1.4. Set the value of `n_init` explicitly to suppress the warning\n",
      "  super()._check_params_vs_input(X, default_n_init=10)\n",
      "c:\\Users\\ASUS\\envs\\env1\\Lib\\site-packages\\sklearn\\cluster\\_kmeans.py:1416: FutureWarning: The default value of `n_init` will change from 10 to 'auto' in 1.4. Set the value of `n_init` explicitly to suppress the warning\n",
      "  super()._check_params_vs_input(X, default_n_init=10)\n",
      "c:\\Users\\ASUS\\envs\\env1\\Lib\\site-packages\\sklearn\\cluster\\_kmeans.py:1416: FutureWarning: The default value of `n_init` will change from 10 to 'auto' in 1.4. Set the value of `n_init` explicitly to suppress the warning\n",
      "  super()._check_params_vs_input(X, default_n_init=10)\n",
      "c:\\Users\\ASUS\\envs\\env1\\Lib\\site-packages\\sklearn\\cluster\\_kmeans.py:1416: FutureWarning: The default value of `n_init` will change from 10 to 'auto' in 1.4. Set the value of `n_init` explicitly to suppress the warning\n",
      "  super()._check_params_vs_input(X, default_n_init=10)\n",
      "c:\\Users\\ASUS\\envs\\env1\\Lib\\site-packages\\sklearn\\cluster\\_kmeans.py:1416: FutureWarning: The default value of `n_init` will change from 10 to 'auto' in 1.4. Set the value of `n_init` explicitly to suppress the warning\n",
      "  super()._check_params_vs_input(X, default_n_init=10)\n"
     ]
    },
    {
     "data": {
      "image/png": "[encoded data removed]",
      "text/plain": [
       "<Figure size 640x480 with 1 Axes>"
      ]
     },
     "metadata": {},
     "output_type": "display_data"
    }
   ],
   "source": [
    "from sklearn.cluster import KMeans\n",
    "import matplotlib.pyplot as plt\n",
    "\n",
    "# Contoh data1 (gunakan data1 yang sudah dinormalisasi)\n",
    "X = data[[\"Tingkat Pengangguran Terbuka (TPT) - Februari\", \"Tingkat Pengangguran Terbuka (TPT) - Agustus\", \"Tingkat Partisipasi Angkatan Kerja (TPAK) - Februari\", \"Tingkat Partisipasi Angkatan Kerja (TPAK) - Agustus\"]]\n",
    "\n",
    "# Kumpulan jumlah cluster yang akan diuji\n",
    "num_clusters = range(1, 11)\n",
    "\n",
    "# Simpan inersia untuk setiap jumlah cluster\n",
    "inertia = []\n",
    "\n",
    "for k in num_clusters:\n",
    "    kmeans = KMeans(n_clusters=k, random_state=42)\n",
    "    kmeans.fit(X)\n",
    "    inertia.append(kmeans.inertia_)\n",
    "\n",
    "# Plot grafik inersia terhadap jumlah cluster\n",
    "plt.plot(num_clusters, inertia, marker='o')\n",
    "plt.xlabel('Jumlah Cluster')\n",
    "plt.ylabel('Inersia')\n",
    "plt.title('Elbow Method untuk Pemilihan Jumlah Cluster')\n",
    "plt.show()\n"
   ]
  },
  {
   "cell_type": "markdown",
   "metadata": {},
   "source": [
    "Metode Silhouette:\n",
    "\n",
    "Metode Silhouette mengukur seberapa baik objek dalam satu klaster mirip satu sama lain dan seberapa terpisah klaster satu sama lain. Nilai Silhouette berkisar dari -1 hingga 1. Nilai yang lebih tinggi menunjukkan cluster yang lebih baik. Pilih jumlah cluster yang memberikan nilai Silhouette tertinggi."
   ]
  },
  {
   "cell_type": "code",
   "execution_count": 44,
   "metadata": {},
   "outputs": [
    {
     "name": "stdout",
     "output_type": "stream",
     "text": [
      "Silhouette Score: 0.4457554496981945\n"
     ]
    }
   ],
   "source": [
    "from sklearn.cluster import KMeans\n",
    "from sklearn.metrics import silhouette_score\n",
    "\n",
    "# Contoh data (gunakan data yang sudah dinormalisasi)\n",
    "X = data[[\"Tingkat Pengangguran Terbuka (TPT) - Februari\", \"Tingkat Pengangguran Terbuka (TPT) - Agustus\", \"Tingkat Partisipasi Angkatan Kerja (TPAK) - Februari\", \"Tingkat Partisipasi Angkatan Kerja (TPAK) - Agustus\"]]\n",
    "\n",
    "# Pilih jumlah cluster yang diinginkan (misalnya, 2)\n",
    "num_clusters = 3\n",
    "\n",
    "# Inisialisasi dan fit KMeans\n",
    "kmeans = KMeans(n_clusters=num_clusters, random_state=42, n_init=10)\n",
    "\n",
    "kmeans.fit(X)\n",
    "\n",
    "# Hitung nilai Silhouette\n",
    "score = silhouette_score(X, kmeans.labels_)\n",
    "print(f\"Silhouette Score: {score}\")\n"
   ]
  },
  {
   "cell_type": "code",
   "execution_count": 39,
   "metadata": {},
   "outputs": [
    {
     "name": "stderr",
     "output_type": "stream",
     "text": [
      "c:\\Users\\ASUS\\envs\\env1\\Lib\\site-packages\\sklearn\\cluster\\_kmeans.py:1416: FutureWarning: The default value of `n_init` will change from 10 to 'auto' in 1.4. Set the value of `n_init` explicitly to suppress the warning\n",
      "  super()._check_params_vs_input(X, default_n_init=10)\n"
     ]
    },
    {
     "data": {
      "image/png": "[encoded data removed]",
      "text/plain": [
       "<Figure size 640x480 with 1 Axes>"
      ]
     },
     "metadata": {},
     "output_type": "display_data"
    },
    {
     "name": "stdout",
     "output_type": "stream",
     "text": [
      "Cluster means:\n",
      "   Tingkat Pengangguran Terbuka (TPT) - Februari  \\\n",
      "0                                       4.536842   \n",
      "1                                       3.867500   \n",
      "2                                       6.528333   \n",
      "\n",
      "   Tingkat Pengangguran Terbuka (TPT) - Agustus  \\\n",
      "0                                      4.479474   \n",
      "1                                      3.807500   \n",
      "2                                      6.197500   \n",
      "\n",
      "   Tingkat Partisipasi Angkatan Kerja (TPAK) - Februari  \\\n",
      "0                                          69.626316      \n",
      "1                                          76.427500      \n",
      "2                                          64.885000      \n",
      "\n",
      "   Tingkat Partisipasi Angkatan Kerja (TPAK) - Agustus  \n",
      "0                                          69.362105    \n",
      "1                                          75.610000    \n",
      "2                                          65.183333    \n",
      "\n",
      "Clustering vector:\n",
      "[2 0 0 2 0 0 0 0 0 2 2 2 0 1 0 2 1 0 1 0 0 0 2 2 2 0 2 0 0 0 2 2 0 1 0]\n",
      "\n",
      "Within cluster sum of squares by cluster:\n",
      "292.0500464912283\n",
      "\n",
      "Available components:\n",
      "KMeans(max_iter=50, n_clusters=3)\n"
     ]
    }
   ],
   "source": [
    "# Final model with k=3\n",
    "kmeans = KMeans(n_clusters=3, max_iter=50)\n",
    "kmeans.fit(X)\n",
    "\n",
    "# Get cluster assignments\n",
    "cluster_assignments = kmeans.labels_\n",
    "\n",
    "# Get cluster centers\n",
    "cluster_centers = kmeans.cluster_centers_\n",
    "\n",
    "# Plotting K-Means results\n",
    "plt.scatter(X.iloc[:, 0], X.iloc[:, 1], c=cluster_assignments, cmap='viridis', marker='o', s=50)\n",
    "plt.scatter(cluster_centers[:, 0], cluster_centers[:, 1], s=200, c='red', marker='X')\n",
    "plt.title('K-Means result with 2 clusters')\n",
    "plt.show()\n",
    "\n",
    "# Displaying cluster means\n",
    "cluster_means = pd.DataFrame(cluster_centers, columns=X.columns)\n",
    "print(\"Cluster means:\")\n",
    "print(cluster_means)\n",
    "\n",
    "# Displaying clustering vector\n",
    "print(\"\\nClustering vector:\")\n",
    "print(cluster_assignments)\n",
    "\n",
    "# Displaying within cluster sum of squares by cluster\n",
    "within_cluster_sumsquares = kmeans.inertia_\n",
    "print(\"\\nWithin cluster sum of squares by cluster:\")\n",
    "print(within_cluster_sumsquares)\n",
    "\n",
    "# Displaying additional information\n",
    "print(\"\\nAvailable components:\")\n",
    "print(kmeans)\n"
   ]
  },
  {
   "cell_type": "code",
   "execution_count": 40,
   "metadata": {},
   "outputs": [
    {
     "data": {
      "text/plain": [
       "array([2, 0, 0, 2, 0, 0, 0, 0, 0, 2, 2, 2, 0, 1, 0, 2, 1, 0, 1, 0, 0, 0,\n",
       "       2, 2, 2, 0, 2, 0, 0, 0, 2, 2, 0, 1, 0])"
      ]
     },
     "execution_count": 40,
     "metadata": {},
     "output_type": "execute_result"
    }
   ],
   "source": [
    "kmeans.labels_"
   ]
  }
 ],
 "metadata": {
  "kernelspec": {
   "display_name": "env1",
   "language": "python",
   "name": "python3"
  },
  "language_info": {
   "codemirror_mode": {
    "name": "ipython",
    "version": 3
   },
   "file_extension": ".py",
   "mimetype": "text/x-python",
   "name": "python",
   "nbconvert_exporter": "python",
   "pygments_lexer": "ipython3",
   "version": "3.11.2"
  }
 },
 "nbformat": 4,
 "nbformat_minor": 2
}
